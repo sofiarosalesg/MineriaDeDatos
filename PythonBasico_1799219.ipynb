{
 "cells": [
  {
   "cell_type": "markdown",
   "metadata": {},
   "source": [
    "### Ejercicio 1:"
   ]
  },
  {
   "cell_type": "markdown",
   "metadata": {},
   "source": [
    "Realiza una variable con tu matrícula y realiza una secuencia de imprimir con tu nombre y tu matrícula concatenados."
   ]
  },
  {
   "cell_type": "code",
   "execution_count": 17,
   "metadata": {},
   "outputs": [
    {
     "name": "stdout",
     "output_type": "stream",
     "text": [
      "Sofía Pamela Rosales Garza 1799219\n"
     ]
    }
   ],
   "source": [
    "mat=1799219\n",
    "nom=\"Sofía Pamela Rosales Garza\"\n",
    "\n",
    "print(nom,mat)"
   ]
  },
  {
   "cell_type": "markdown",
   "metadata": {},
   "source": [
    "### Ejercicio 2:"
   ]
  },
  {
   "cell_type": "markdown",
   "metadata": {},
   "source": [
    "Pidiendo el input del usuario pide dos números y crea una pequeña calculadora con los operadores básicos de suma, resta, multiplicación, división, y exponente."
   ]
  },
  {
   "cell_type": "code",
   "execution_count": 12,
   "metadata": {},
   "outputs": [
    {
     "name": "stdout",
     "output_type": "stream",
     "text": [
      "Introduce un número entero: 2\n",
      "Introduce otro número entero: 2\n",
      "Suma: 2 + 2 = 4\n",
      "Resta: 2 - 2 = 0\n",
      "Multiplicación: 2 * 2 = 4\n",
      "División: 2 / 2 = 1.0\n",
      "Exponente: 2 ** 2 = 4\n"
     ]
    }
   ],
   "source": [
    "num1=int(input(\"Introduce un número entero: \"))\n",
    "num2=int(input(\"Introduce otro número entero: \"))\n",
    "\n",
    "suma=num1+num2\n",
    "resta=num1-num2\n",
    "multi=num1*num2\n",
    "div=num1/num2\n",
    "exp=num1**num2\n",
    "\n",
    "print(\"Suma:\",num1,\"+\",num2,\"=\",suma)\n",
    "print(\"Resta:\",num1,\"-\",num2,\"=\",resta)\n",
    "print(\"Multiplicación:\",num1,\"*\",num2,\"=\",multi)\n",
    "print(\"División:\",num1,\"/\",num2,\"=\",div)\n",
    "print(\"Exponente:\",num1,\"**\",num2,\"=\",exp)"
   ]
  },
  {
   "cell_type": "markdown",
   "metadata": {},
   "source": [
    "### Ejercicio 3:"
   ]
  },
  {
   "cell_type": "markdown",
   "metadata": {},
   "source": [
    "Con loop while o for, realiza una lista de 10 números múltiplos de 3, y después realiza una función de loop que sume todos los números dentro del arreglo."
   ]
  },
  {
   "cell_type": "code",
   "execution_count": 28,
   "metadata": {},
   "outputs": [
    {
     "name": "stdout",
     "output_type": "stream",
     "text": [
      "Número 1 : 3\n",
      "Número 2 : 6\n",
      "Número 3 : 9\n",
      "Número 4 : 12\n",
      "Número 5 : 15\n",
      "Número 6 : 18\n",
      "Número 7 : 21\n",
      "Número 8 : 24\n",
      "Número 9 : 27\n",
      "Número 10 : 30\n",
      "La suma de los números es  165\n"
     ]
    }
   ],
   "source": [
    "suma=0\n",
    "for i in range(1,11):\n",
    "    mult=i*3\n",
    "    suma=suma+mult\n",
    "    print(\"Número\",i,\":\",mult)\n",
    "print(\"La suma de los números es \",suma)    "
   ]
  },
  {
   "cell_type": "markdown",
   "metadata": {},
   "source": [
    "### Ejercicio 4:"
   ]
  },
  {
   "cell_type": "markdown",
   "metadata": {},
   "source": [
    "- Con una función de if else, revisar si un número es par o es impar.\n",
    "- Con una función de if else, revisar si un número es primo o no."
   ]
  },
  {
   "cell_type": "code",
   "execution_count": 18,
   "metadata": {},
   "outputs": [
    {
     "name": "stdout",
     "output_type": "stream",
     "text": [
      "Introduce un número: 3\n",
      "El número 3 no es par\n"
     ]
    }
   ],
   "source": [
    "a=int(input(\"Introduce un número: \"))\n",
    "if a%2==0:\n",
    "    print(\"El número\",a,\"es par\")\n",
    "else:\n",
    "    print(\"El número\",a,\"no es par\")"
   ]
  },
  {
   "cell_type": "code",
   "execution_count": 29,
   "metadata": {},
   "outputs": [
    {
     "name": "stdout",
     "output_type": "stream",
     "text": [
      "Introduce un número: 2\n",
      "El número 2 es primo\n"
     ]
    }
   ],
   "source": [
    "b=int(input(\"Introduce un número: \"))\n",
    "p=0\n",
    "for i in range(2,b):\n",
    "    if b%i!=0:\n",
    "        continue\n",
    "    else:\n",
    "        p=p+1\n",
    "        break\n",
    "if p>0:\n",
    "    print(\"El número\",b,\"no es primo\")\n",
    "else:\n",
    "    print(\"El número\",b,\"es primo\")"
   ]
  },
  {
   "cell_type": "markdown",
   "metadata": {},
   "source": [
    "### Ejercicio 5:"
   ]
  },
  {
   "cell_type": "markdown",
   "metadata": {},
   "source": [
    "Utilizando diferentes clases en python, crea una calculadora con los operadores básicos de suma, resta, multiplicación, división, y exponente."
   ]
  },
  {
   "cell_type": "code",
   "execution_count": 1,
   "metadata": {},
   "outputs": [
    {
     "name": "stdout",
     "output_type": "stream",
     "text": [
      "Ingresa un número: 5\n",
      "Ingresa un segundo número: 4\n",
      "Suma: 9\n",
      "Resta: 1\n",
      "Multiplicación: 20\n",
      "División: 1.25\n",
      "Exponente: 625\n"
     ]
    }
   ],
   "source": [
    "def Suma(a,b):\n",
    "    c=a+b\n",
    "    return c\n",
    "def Resta(a,b):\n",
    "    c=a-b\n",
    "    return c\n",
    "def Multiplicación(a,b):\n",
    "    c=a*b\n",
    "    return c\n",
    "def División(a,b):\n",
    "    c=a/b\n",
    "    return c\n",
    "def Exponente(a,b):\n",
    "    c=a**b\n",
    "    return c\n",
    "w=int(input(\"Ingresa un número: \"))\n",
    "z=int(input(\"Ingresa un segundo número: \"))\n",
    "print(\"Suma:\", Suma(w,z))\n",
    "print(\"Resta:\", Resta(w,z))\n",
    "print(\"Multiplicación:\", Multiplicación(w,z))\n",
    "print(\"División:\", División(w,z))\n",
    "print(\"Exponente:\", Exponente(w,z))"
   ]
  },
  {
   "cell_type": "markdown",
   "metadata": {},
   "source": [
    "### Ejercicios con estructuras básicas de python\n",
    "### Tuplas\n",
    "- Crear una variable flotante, integer, boleana y compleja e imprimir el tipo de variable que es."
   ]
  },
  {
   "cell_type": "code",
   "execution_count": 25,
   "metadata": {},
   "outputs": [
    {
     "name": "stdout",
     "output_type": "stream",
     "text": [
      "La variable f = 15.2 es de tipo: <class 'float'>\n",
      "La variable i = 11 es de tipo: <class 'int'>\n",
      "La variable b = True es de tipo: <class 'bool'>\n",
      "La variable c = 1j es de tipo: <class 'complex'>\n"
     ]
    }
   ],
   "source": [
    "f=15.2\n",
    "print(\"La variable f =\",f,\"es de tipo:\", type(f))\n",
    "i=11\n",
    "print(\"La variable i =\",i,\"es de tipo:\", type(i))\n",
    "b=True\n",
    "print(\"La variable b =\",b,\"es de tipo:\", type(b))\n",
    "c=1j\n",
    "print(\"La variable c =\",c,\"es de tipo:\", type(c))"
   ]
  },
  {
   "cell_type": "markdown",
   "metadata": {},
   "source": [
    "- Crear una tupla con valores enteros imprimir el primer y último valor."
   ]
  },
  {
   "cell_type": "code",
   "execution_count": 70,
   "metadata": {},
   "outputs": [
    {
     "name": "stdout",
     "output_type": "stream",
     "text": [
      "El primer valor de la tupla es: 9\n",
      "El último valor de la tupla es: 30\n"
     ]
    }
   ],
   "source": [
    "t=(9,15,30)\n",
    "print(\"El primer valor de la tupla es:\",t[0])\n",
    "print(\"El último valor de la tupla es:\",t[2])"
   ]
  },
  {
   "cell_type": "markdown",
   "metadata": {},
   "source": [
    "- Añadir 3 valores de string a la tupla."
   ]
  },
  {
   "cell_type": "code",
   "execution_count": 71,
   "metadata": {},
   "outputs": [
    {
     "data": {
      "text/plain": [
       "(9, 15, 30, 'valor1', 'valor2', 'valor3')"
      ]
     },
     "execution_count": 71,
     "metadata": {},
     "output_type": "execute_result"
    }
   ],
   "source": [
    "t=t.__add__((\"valor1\",\"valor2\",\"valor3\"))\n",
    "t\n",
    "#https://stackoverflow.com/questions/56633922/usage-of-add-method-in-tuple-class#:~:text=%2C%20b%2C%20c)-,tuple.,contrast%20to%20something%20like%20list."
   ]
  },
  {
   "cell_type": "markdown",
   "metadata": {},
   "source": [
    "- Verificar si una variable existe dentro de la tupla."
   ]
  },
  {
   "cell_type": "code",
   "execution_count": 74,
   "metadata": {},
   "outputs": [
    {
     "data": {
      "text/plain": [
       "True"
      ]
     },
     "execution_count": 74,
     "metadata": {},
     "output_type": "execute_result"
    }
   ],
   "source": [
    "15 in t"
   ]
  },
  {
   "cell_type": "code",
   "execution_count": 75,
   "metadata": {},
   "outputs": [
    {
     "data": {
      "text/plain": [
       "False"
      ]
     },
     "execution_count": 75,
     "metadata": {},
     "output_type": "execute_result"
    }
   ],
   "source": [
    "\"Hola\" in t"
   ]
  },
  {
   "cell_type": "markdown",
   "metadata": {},
   "source": [
    "### Listas"
   ]
  },
  {
   "cell_type": "markdown",
   "metadata": {},
   "source": [
    "- Crear una lista con 40 elementos aleatorios enteros."
   ]
  },
  {
   "cell_type": "code",
   "execution_count": 126,
   "metadata": {},
   "outputs": [
    {
     "name": "stdout",
     "output_type": "stream",
     "text": [
      "[20, 35, 90, 97, 67, 14, 39, 66, 58, 85, 34, 83, 76, 5, 19, 18, 81, 77, 13, 37, 25, 60, 68, 50, 59, 71, 53, 36, 4, 54, 92, 65, 79, 72, 64, 23, 62, 24, 17, 9]\n"
     ]
    }
   ],
   "source": [
    "import random as r\n",
    "lista=range(0,100)\n",
    "lista=r.sample(lista,k=40)\n",
    "print(lista)"
   ]
  },
  {
   "cell_type": "markdown",
   "metadata": {},
   "source": [
    "- Con una función (def) crear dos listas nuevas a partir de la lista creada por números aleatorios, en la cual en una esten los elementos pares, y en la otra los elementos impares."
   ]
  },
  {
   "cell_type": "code",
   "execution_count": 127,
   "metadata": {},
   "outputs": [
    {
     "name": "stdout",
     "output_type": "stream",
     "text": [
      "Lista de números pares: [20, 90, 14, 66, 58, 34, 76, 18, 60, 68, 50, 36, 4, 54, 92, 72, 64, 62, 24]\n",
      "Lista de números impares: [35, 97, 67, 39, 85, 83, 5, 19, 81, 77, 13, 37, 25, 59, 71, 53, 65, 79, 23, 17, 9]\n"
     ]
    }
   ],
   "source": [
    "listap=[]\n",
    "listaimp=[]\n",
    "def listapi(lista,listap, listaimp):\n",
    "    for i in range(0,40):\n",
    "        num = lista[i]\n",
    "        if num%2==0:\n",
    "            listap.append(num)\n",
    "        else:\n",
    "            listaimp.append(num)\n",
    "    lp=listap\n",
    "    li=listaimp\n",
    "\n",
    "listapi(lista,listap,listaimp)\n",
    "print(\"Lista de números pares:\",listap)\n",
    "print(\"Lista de números impares:\",listaimp)"
   ]
  },
  {
   "cell_type": "markdown",
   "metadata": {},
   "source": [
    "- Crear dos variables con la longitud de ambas listas nuevas e imprimir las variables."
   ]
  },
  {
   "cell_type": "code",
   "execution_count": 128,
   "metadata": {},
   "outputs": [
    {
     "name": "stdout",
     "output_type": "stream",
     "text": [
      "La longitud de la lista de números pares es de: 19\n",
      "La longitud de la lista de números impares es de: 21\n"
     ]
    }
   ],
   "source": [
    "lonp=len(listap)\n",
    "lonimp=len(listaimp)\n",
    "print(\"La longitud de la lista de números pares es de:\",lonp)\n",
    "print(\"La longitud de la lista de números impares es de:\",lonimp)"
   ]
  },
  {
   "cell_type": "markdown",
   "metadata": {},
   "source": [
    "- Ordenar los elementos de la lista par de mayor a menor, y los de la lista impar de menor a mayor."
   ]
  },
  {
   "cell_type": "code",
   "execution_count": 129,
   "metadata": {},
   "outputs": [
    {
     "name": "stdout",
     "output_type": "stream",
     "text": [
      "Pares: [4, 14, 18, 20, 24, 34, 36, 50, 54, 58, 60, 62, 64, 66, 68, 72, 76, 90, 92]\n",
      "Impares: [97, 85, 83, 81, 79, 77, 71, 67, 65, 59, 53, 39, 37, 35, 25, 23, 19, 17, 13, 9, 5]\n"
     ]
    }
   ],
   "source": [
    "#https://uniwebsidad.com/libros/algoritmos-python/capitulo-7/ordenar-listas#:~:text=Python%20provee%20dos%20operaciones%20para,se%20usa%20la%20funci%C3%B3n%20sorted%20.&text=Para%20modificar%20directamente%20la%20lista%20original%20usaremos%20la%20operaci%C3%B3n%20sort()%20.\n",
    "lpo=sorted(listap)\n",
    "print(\"Pares:\",lpo)\n",
    "limpo=sorted(listaimp,reverse=True)\n",
    "print(\"Impares:\",limpo)"
   ]
  },
  {
   "cell_type": "markdown",
   "metadata": {},
   "source": [
    "- Utilizar al menos cuatro de las funciones de listas en python en la lista original de 40 elementos."
   ]
  },
  {
   "cell_type": "code",
   "execution_count": 130,
   "metadata": {},
   "outputs": [
    {
     "name": "stdout",
     "output_type": "stream",
     "text": [
      "[20, 35, 90, 97, 67, 14, 39, 66, 58, 85, 34, 83, 76, 5, 19, 18, 81, 77, 13, 37, 25, 60, 68, 50, 59, 71, 53, 36, 4, 54, 92, 65, 79, 72, 64, 23, 62, 24, 17, 9, 200]\n"
     ]
    }
   ],
   "source": [
    "lista.append(200)\n",
    "print(lista)"
   ]
  },
  {
   "cell_type": "code",
   "execution_count": 131,
   "metadata": {},
   "outputs": [
    {
     "name": "stdout",
     "output_type": "stream",
     "text": [
      "[20, 35, 90, 97, 67, 14, 39, 66, 58, 85, 34, 83, 76, 5, 19, 18, 81, 77, 13, 37, 25, 60, 68, 50, 59, 71, 53, 36, 4, 54, 92, 65, 79, 72, 64, 23, 62, 24, 17, 9, 200, 1000]\n"
     ]
    }
   ],
   "source": [
    "lista.extend([1000])\n",
    "print(lista)"
   ]
  },
  {
   "cell_type": "code",
   "execution_count": 132,
   "metadata": {},
   "outputs": [
    {
     "name": "stdout",
     "output_type": "stream",
     "text": [
      "[1000, 200, 9, 17, 24, 62, 23, 64, 72, 79, 65, 92, 54, 4, 36, 53, 71, 59, 50, 68, 60, 25, 37, 13, 77, 81, 18, 19, 5, 76, 83, 34, 85, 58, 66, 39, 14, 67, 97, 90, 35, 20]\n"
     ]
    }
   ],
   "source": [
    "lista.reverse()\n",
    "print(lista)"
   ]
  },
  {
   "cell_type": "code",
   "execution_count": 133,
   "metadata": {},
   "outputs": [
    {
     "data": {
      "text/plain": [
       "1000"
      ]
     },
     "execution_count": 133,
     "metadata": {},
     "output_type": "execute_result"
    }
   ],
   "source": [
    "max(lista)"
   ]
  },
  {
   "cell_type": "markdown",
   "metadata": {},
   "source": [
    "### Diccionarios\n",
    "- Crear un diccionario de 6 personas que conozcas con su primer nombre y su edad."
   ]
  },
  {
   "cell_type": "code",
   "execution_count": 5,
   "metadata": {},
   "outputs": [
    {
     "name": "stdout",
     "output_type": "stream",
     "text": [
      "{'Sofía': 20, 'Valeria': 21, 'Deyanira': 28, 'Mario': 17, 'Nancy': 48, 'José': 2}\n"
     ]
    }
   ],
   "source": [
    "dic1={'Sofía': 20, 'Valeria': 21, 'Deyanira': 28, 'Mario': 17, 'Nancy': 48, 'José': 2}\n",
    "print(dic1)"
   ]
  },
  {
   "cell_type": "markdown",
   "metadata": {},
   "source": [
    "- Crear una lista con los valores de la edad y reacomodar la lista de menor a mayor valor."
   ]
  },
  {
   "cell_type": "code",
   "execution_count": 6,
   "metadata": {},
   "outputs": [
    {
     "data": {
      "text/plain": [
       "[2, 17, 20, 21, 28, 48]"
      ]
     },
     "execution_count": 6,
     "metadata": {},
     "output_type": "execute_result"
    }
   ],
   "source": [
    "sorted(dic1.values())"
   ]
  },
  {
   "cell_type": "markdown",
   "metadata": {},
   "source": [
    "- Usando el diccionario y un loop, imprimir solo los nombres."
   ]
  },
  {
   "cell_type": "code",
   "execution_count": 7,
   "metadata": {},
   "outputs": [
    {
     "name": "stdout",
     "output_type": "stream",
     "text": [
      "Sofía\n",
      "Valeria\n",
      "Deyanira\n",
      "Mario\n",
      "Nancy\n",
      "José\n"
     ]
    }
   ],
   "source": [
    "for i in dic1:\n",
    "    print(i)"
   ]
  },
  {
   "cell_type": "markdown",
   "metadata": {},
   "source": [
    "- Añadir dos personas nuevas a tu diccionario, incluyendo edad."
   ]
  },
  {
   "cell_type": "code",
   "execution_count": 11,
   "metadata": {},
   "outputs": [
    {
     "name": "stdout",
     "output_type": "stream",
     "text": [
      "{'Sofía': 20, 'Valeria': 21, 'Deyanira': 28, 'Mario': 17, 'Nancy': 48, 'José': 2, 'Alejandro': 29, 'Ivonne': 21}\n"
     ]
    }
   ],
   "source": [
    "dic1['Alejandro']=29\n",
    "dic1['Ivonne']=21\n",
    "print(dic1)"
   ]
  },
  {
   "cell_type": "markdown",
   "metadata": {},
   "source": [
    "### Sets\n",
    "- Crea un set con 100 numeros aleatorios enteros del 1 al 25."
   ]
  },
  {
   "cell_type": "code",
   "execution_count": 20,
   "metadata": {},
   "outputs": [
    {
     "name": "stdout",
     "output_type": "stream",
     "text": [
      "{1, 2, 3, 4, 5, 6, 7, 8, 9, 10, 11, 12, 13, 14, 15, 16, 17, 18, 19, 20, 21, 22, 23, 24, 25}\n"
     ]
    }
   ],
   "source": [
    "import random\n",
    "set1={random.randint(1,25)}\n",
    "for i in range(0,99):\n",
    "    set1.add(random.randint(1,25))\n",
    "\n",
    "print(set1)"
   ]
  },
  {
   "cell_type": "markdown",
   "metadata": {},
   "source": [
    "- Comprueba la longitud de tu set."
   ]
  },
  {
   "cell_type": "code",
   "execution_count": 21,
   "metadata": {},
   "outputs": [
    {
     "data": {
      "text/plain": [
       "25"
      ]
     },
     "execution_count": 21,
     "metadata": {},
     "output_type": "execute_result"
    }
   ],
   "source": [
    "len(set1)"
   ]
  },
  {
   "cell_type": "markdown",
   "metadata": {},
   "source": [
    "- Crea una lista de 5 números aleatorios del 1 al 10 y comprueba si cada valor aparece en el set inicial."
   ]
  },
  {
   "cell_type": "code",
   "execution_count": 27,
   "metadata": {},
   "outputs": [
    {
     "name": "stdout",
     "output_type": "stream",
     "text": [
      "¿El número 86 se encuentra en el set?\n",
      "False\n",
      "¿El número 97 se encuentra en el set?\n",
      "False\n",
      "¿El número 3 se encuentra en el set?\n",
      "True\n",
      "¿El número 90 se encuentra en el set?\n",
      "False\n",
      "¿El número 44 se encuentra en el set?\n",
      "False\n",
      "¿El número 71 se encuentra en el set?\n",
      "False\n",
      "¿El número 99 se encuentra en el set?\n",
      "False\n",
      "¿El número 31 se encuentra en el set?\n",
      "False\n",
      "¿El número 13 se encuentra en el set?\n",
      "True\n"
     ]
    }
   ],
   "source": [
    "for i in range(0,9):\n",
    "    a=r.randint(0,100)\n",
    "    print(\"¿El número\", a, \"se encuentra en el set?\")\n",
    "    print(a in set1)"
   ]
  },
  {
   "cell_type": "code",
   "execution_count": null,
   "metadata": {},
   "outputs": [],
   "source": []
  }
 ],
 "metadata": {
  "kernelspec": {
   "display_name": "Python 3",
   "language": "python",
   "name": "python3"
  },
  "language_info": {
   "codemirror_mode": {
    "name": "ipython",
    "version": 3
   },
   "file_extension": ".py",
   "mimetype": "text/x-python",
   "name": "python",
   "nbconvert_exporter": "python",
   "pygments_lexer": "ipython3",
   "version": "3.7.6"
  }
 },
 "nbformat": 4,
 "nbformat_minor": 4
}
